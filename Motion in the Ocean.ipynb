{
 "metadata": {
  "name": "",
  "signature": "sha256:92e7996a0f6f3ffca517eccb3dec74cfd4e8646a93e6bf9e8da6b80f2ba737e3"
 },
 "nbformat": 3,
 "nbformat_minor": 0,
 "worksheets": [
  {
   "cells": [
    {
     "cell_type": "heading",
     "level": 1,
     "metadata": {},
     "source": [
      "Motion in the Ocean: The dynamics of sinking and rising objects through current levels"
     ]
    },
    {
     "cell_type": "heading",
     "level": 3,
     "metadata": {},
     "source": [
      "Peter Marchetto, \n",
      "Bioacoustics Research Program, Cornell Lab of Ornithology, and Department of Biological and Environmental Engineering, Cornell University, Ithaca, NY, USA"
     ]
    },
    {
     "cell_type": "heading",
     "level": 2,
     "metadata": {},
     "source": [
      "Abstract"
     ]
    },
    {
     "cell_type": "markdown",
     "metadata": {},
     "source": [
      "This paper proposes a predictive algorithm for determining landing and surfacing radii of dropped and floated instruments in water. Particular attention is paid to examples of traversal of multiple current layers."
     ]
    },
    {
     "cell_type": "heading",
     "level": 2,
     "metadata": {},
     "source": [
      "Introduction"
     ]
    },
    {
     "cell_type": "markdown",
     "metadata": {},
     "source": [
      "Many methods exist for finding where a drifting object may be on the surface of the ocean, and many methods seem to also exist to explain how the relative forces of water and wind may affect that object\u2019s motion while floating. However, when deploying objects that sink to the ocean floor or rise to its surface, it would be helpful to have a means of predicting the landing and surfacing radii. The algorithm described in this paper aims to fix the current dearth of such methods."
     ]
    },
    {
     "cell_type": "heading",
     "level": 2,
     "metadata": {},
     "source": [
      "Definition of Variables"
     ]
    },
    {
     "cell_type": "heading",
     "level": 3,
     "metadata": {},
     "source": [
      "Inputs"
     ]
    },
    {
     "cell_type": "markdown",
     "metadata": {},
     "source": [
      "Float Drag Coefficient: $c_{dF}$\n",
      "\n",
      "Float Density (kg/L): $\\rho_{sF}$\n",
      "\n",
      "Anchor Drag Coefficient: $c_{dA}$\n",
      "\n",
      "Anchor Density (kg/L): $\\rho_{sA}$\n",
      "\n",
      "Delay Time (sec): $t_{delay}$\n",
      "\n",
      "Deployment Depth (m): $h$\n",
      "\n",
      "Water Current Velocity (m/sec): $\\vec{v_{cw}}$\n",
      "\n",
      "Water Current Direction (\u00b0): $\\theta_{cw}$\n",
      "\n",
      "Wind Speed (m/sec): $\\vec{v_{ca}}$\n",
      "\n",
      "Wind Direction (\u00b0): $\\theta_{ca}$\n",
      "\n",
      "Medium Density (kg/L): $\\rho$\n",
      "\n",
      "Air Density (kg/L): $\\rho_a$\n",
      "\n",
      "xy-Plane Cross Sectional Area of Float (m<sup>2</sup>): $A_{xyF}$\n",
      "\n",
      "xz/yz-Plane Cross Sectional Area of Float (m<sup>2</sup>): $A_{zF}$\n",
      "\n",
      "xy-Plane Cross Sectional Area of Anchor(m<sup>2</sup>): $A_{xyA}$\n",
      "\n",
      "xz/yz-Plane Cross Sectional Area of Anchor(m<sup>2</sup>): $A_{zA}$\n",
      "\n",
      "Volume of Float (m<sup>3</sup>): $V_F$\n",
      "\n",
      "Volume of Anchor (m<sup>3</sup>): $V_A$\n",
      "\n",
      "Release-to-Recovery Time (sec): $t_{float}$\n",
      "\n",
      "Acceleration Due to Gravity (m/sec<sup>2</sup>): $g=9.81$\n",
      "\n",
      "Terminal Velocity (m/sec): $v_t$"
     ]
    },
    {
     "cell_type": "heading",
     "level": 3,
     "metadata": {},
     "source": [
      "Outputs"
     ]
    },
    {
     "cell_type": "markdown",
     "metadata": {},
     "source": [
      "Phase 1 xy-Plane Displacement: $\\ell_{xy1}$\n",
      "\n",
      "Phase 2 xy-Plane Displacement: $\\ell_{xy2}$\n",
      "\n",
      "Phase 3 xy-Plane Displacement: $\\ell_{xy3}$"
     ]
    },
    {
     "cell_type": "heading",
     "level": 2,
     "metadata": {},
     "source": [
      "Algorithm"
     ]
    },
    {
     "cell_type": "heading",
     "level": 3,
     "metadata": {},
     "source": [
      "Phase 1: Sinking"
     ]
    },
    {
     "cell_type": "markdown",
     "metadata": {},
     "source": [
      "First, the terminal velocity of the system is calculated. Since the maximum terminal velocity is what\u2019s needed in this model, we treat this as being only the anchor. Thus we find the first terminal velocity, $v_{t1}$, based on the above parameters:\n",
      "$$v_{t1}=\\sqrt{\\mid\\frac{\\rho_{sA}-\\rho}{\\rho}\\frac{2gV_A}{c_{dA}A_{xyA}}\\mid}$$"
     ]
    },
    {
     "cell_type": "code",
     "collapsed": false,
     "input": [
      "from __future__ import print_function\n",
      "from IPython.html.widgets import interact, interactive, fixed\n",
      "from IPython.html import widgets\n",
      "import math\n",
      "from math import sqrt\n",
      "from math import sin\n",
      "from math import cos\n",
      "from math import tan\n",
      "from math import asin\n",
      "from math import acos\n",
      "from math import atan\n",
      "from math import pi\n",
      "pi=math.pi\n",
      "def deg2rad(degin):\n",
      "    return((degin*pi)/180)\n",
      "def rad2deg(radin):\n",
      "    return((radin/pi)*180)"
     ],
     "language": "python",
     "metadata": {},
     "outputs": [],
     "prompt_number": 1
    },
    {
     "cell_type": "code",
     "collapsed": false,
     "input": [
      "def f_vt1(rhosA,rho,g,VA,cdA,AxyA):\n",
      "    return(sqrt(abs(((rhosA-rho)/rho)*(2*g*VA/(cdA*AxyA)))))\n",
      "rhosA=1.200\n",
      "rho=1.000\n",
      "g=9.18\n",
      "VA=0.10\n",
      "cdA=0.50\n",
      "AxyA=0.50\n",
      "vt1=f_vt1(rhosA,rho,g,VA,cdA,AxyA)\n",
      "print(\"vt1=\", vt1, \"m/sec\")"
     ],
     "language": "python",
     "metadata": {},
     "outputs": [
      {
       "output_type": "stream",
       "stream": "stdout",
       "text": [
        "vt1= 1.2119405926 m/sec\n"
       ]
      }
     ],
     "prompt_number": 2
    },
    {
     "cell_type": "markdown",
     "metadata": {},
     "source": [
      "Once the terminal velocity is known, the characteristic time, $\\tau_1$, can be calculated. This is the time over which the system experiences a logarithmic acceleration, ending when it reaches $v_{t1}$:\n",
      "$$\\tau_1=\\frac{v_{t1}}{\\frac{\\rho_{sA}-\\rho}{\\rho}g}$$"
     ]
    },
    {
     "cell_type": "code",
     "collapsed": false,
     "input": [
      "def f_tau1(vt1, rhosA, rho, g):\n",
      "    return(vt1/((rhosA-rho)/rho)*g)\n",
      "tau1=f_tau1(vt1, rhosA, rho, g)\n",
      "print(\"tau1=\", tau1, \"sec\")"
     ],
     "language": "python",
     "metadata": {},
     "outputs": [
      {
       "output_type": "stream",
       "stream": "stdout",
       "text": [
        "tau1= 55.6280732005 sec\n"
       ]
      }
     ],
     "prompt_number": 3
    },
    {
     "cell_type": "markdown",
     "metadata": {},
     "source": [
      "This is then multiplied by the average velocity over the acceleration period, vt1 , to give the height of the system at\n",
      "the end of its acceleration:\n",
      "$$h_1=\\frac{v_{t1}\\tau_1}{2}$$"
     ]
    },
    {
     "cell_type": "code",
     "collapsed": false,
     "input": [
      "def f_h1(vt1,tau1):\n",
      "    return((vt1*tau1)/2)\n",
      "h1=f_h1(vt1,tau1)\n",
      "print(\"h1=\", h1, \"m\")"
     ],
     "language": "python",
     "metadata": {},
     "outputs": [
      {
       "output_type": "stream",
       "stream": "stdout",
       "text": [
        "h1= 33.70896 m\n"
       ]
      }
     ],
     "prompt_number": 4
    },
    {
     "cell_type": "markdown",
     "metadata": {},
     "source": [
      "When the overall height and the height at which the system ceases accelerating are known, the difference can be found, $h_2$, which is the height traversed by the system over the time that it sinks:\n",
      "$$h_2=h-h_1$$"
     ]
    },
    {
     "cell_type": "code",
     "collapsed": false,
     "input": [
      "def f_h2(h,h1):\n",
      "    return(h-h1)\n",
      "h=1000\n",
      "h2=f_h2(h,h1)\n",
      "print(\"h2=\", h2, \"m\")"
     ],
     "language": "python",
     "metadata": {},
     "outputs": [
      {
       "output_type": "stream",
       "stream": "stdout",
       "text": [
        "h2= 966.29104 m\n"
       ]
      }
     ],
     "prompt_number": 5
    },
    {
     "cell_type": "markdown",
     "metadata": {},
     "source": [
      "This then leads to the sinking time, t2:\n",
      "$$t_2=\\frac{h_2}{v_{t1}}$$"
     ]
    },
    {
     "cell_type": "code",
     "collapsed": false,
     "input": [
      "def f_t2(h2,vt1):\n",
      "    return(h2/vt1)\n",
      "t2=f_t2(h2,vt1)\n",
      "print(\"t2=\", t2, \"sec\")"
     ],
     "language": "python",
     "metadata": {},
     "outputs": [
      {
       "output_type": "stream",
       "stream": "stdout",
       "text": [
        "t2= 797.30891588 sec\n"
       ]
      }
     ],
     "prompt_number": 6
    },
    {
     "cell_type": "markdown",
     "metadata": {},
     "source": [
      "Meanwhile, the xy-plane, or drift, velocity, $v_{xy1}$, is found by accounting for the drag coefficients of both the anchor and float parts of the system:\n",
      "$$v_{xy1}=\\frac{v_{cw}}{\\frac{c_{dF}A_{zF}}{\\rho_{sF}V_F}+\\frac{c_{dA}A_{zA}}{\\rho_{sA}V_A}}$$"
     ]
    },
    {
     "cell_type": "code",
     "collapsed": false,
     "input": [
      "def f_vxy1(vcw,cdF,AzF,rhosF,VF,cdA,AzA,rhosA,VA):\n",
      "    return(vcw/((cdF*AzF)/(rhosF*VF)+(cdA*AzA)/(rhosA*VA)))\n",
      "vcw=1.00\n",
      "cdF=0.5\n",
      "AzF=0.5\n",
      "VF=5.0\n",
      "AzA=0.25\n",
      "rhosF=0.800\n",
      "thetacw=90\n",
      "vxy1=f_vxy1(vcw,cdF,AzF,rhosF,VF,cdA,AzA,rhosA,VA)\n",
      "thetacw=deg2rad(thetacw)\n",
      "print(\"vxy1=\", vxy1, \"m/sec\")\n",
      "print(\"thetacw=\", rad2deg(thetacw),\"\u00b0\")"
     ],
     "language": "python",
     "metadata": {},
     "outputs": [
      {
       "output_type": "stream",
       "stream": "stdout",
       "text": [
        "vxy1= 0.905660377358 m/sec\n",
        "thetacw= 90.0 \u00b0\n"
       ]
      }
     ],
     "prompt_number": 7
    },
    {
     "cell_type": "markdown",
     "metadata": {},
     "source": [
      "Now it's possible to find the displacement from the drop point in the xy-plane, $\\ell_{1xy}$:\n",
      "$$\\ell_{1xy}=v_{xy1}(t_2+\\tau_1)$$"
     ]
    },
    {
     "cell_type": "code",
     "collapsed": false,
     "input": [
      "def f_l1xy(vxy1,t2,tau1):\n",
      "    return(vxy1*(t2+tau1))\n",
      "l1xy=f_l1xy(vxy1,t2,tau1)\n",
      "print(\"l1xy=\", l1xy, \"m\")\n",
      "print(\"Bearing:\", rad2deg(thetacw), \"\u00b0\")"
     ],
     "language": "python",
     "metadata": {},
     "outputs": [
      {
       "output_type": "stream",
       "stream": "stdout",
       "text": [
        "l1xy= 772.471235394 m\n",
        "Bearing: 90.0 \u00b0\n"
       ]
      }
     ],
     "prompt_number": 8
    },
    {
     "cell_type": "heading",
     "level": 3,
     "metadata": {},
     "source": [
      "Phase 2: Rising"
     ]
    },
    {
     "cell_type": "markdown",
     "metadata": {},
     "source": [
      "Next, the terminal velocity of the float alone, $v_{t2}$ must be found for its journey to the surface:\n",
      "$$v_{t2}=\\sqrt{\\mid\\frac{\\rho_{sF}-\\rho}{\\rho}\\frac{2gV_F}{c_{dF}A_{xyF}}\\mid}$$"
     ]
    },
    {
     "cell_type": "code",
     "collapsed": false,
     "input": [
      "def f_vt2(rhosF,rho,g,VF,cdF,AxyF):\n",
      "    return(math.sqrt(abs(((rhosF-rho)/rho)*(2*g*VF/(cdF*AxyF)))))\n",
      "AxyF=0.5\n",
      "vt2=f_vt2(rhosF,rho,g,VF,cdF,AxyF)\n",
      "print(\"vt2=\", vt2, \"m/sec\")"
     ],
     "language": "python",
     "metadata": {},
     "outputs": [
      {
       "output_type": "stream",
       "stream": "stdout",
       "text": [
        "vt2= 8.56971411425 m/sec\n"
       ]
      }
     ],
     "prompt_number": 9
    },
    {
     "cell_type": "markdown",
     "metadata": {},
     "source": [
      "Now it\u2019s possible to find the drift velocity, $v_{xy2}$ , of the float\n",
      "alone:\n",
      "$$v_{xy2}=\\frac{v_{cw}}{\\frac{c_{dF}A_{zF}}{\\rho_{sF}V_F}}$$"
     ]
    },
    {
     "cell_type": "code",
     "collapsed": false,
     "input": [
      "def f_vxy2(vcw,cdF,AzF,rhosF,VF):\n",
      "    return(vcw/((cdF*AzF)/(rhosF*VF)))\n",
      "vxy2=f_vxy2(vcw,cdF,AzF,rhosF,VF)\n",
      "print(\"vxy2=\", vxy2, \"m/sec\")\n",
      "print(\"Bearing:\", rad2deg(thetacw), \"\u00b0\")"
     ],
     "language": "python",
     "metadata": {},
     "outputs": [
      {
       "output_type": "stream",
       "stream": "stdout",
       "text": [
        "vxy2= 16.0 m/sec\n",
        "Bearing: 90.0 \u00b0\n"
       ]
      }
     ],
     "prompt_number": 10
    },
    {
     "cell_type": "markdown",
     "metadata": {},
     "source": [
      "Then the characteristic time of the float alone, $\\tau_2$, can be\n",
      "calculated:\n",
      "$$\\tau_2=\\frac{v_{t2}}{\\frac{\\rho_{sF}-\\rho}{\\rho}g}$$"
     ]
    },
    {
     "cell_type": "code",
     "collapsed": false,
     "input": [
      "def f_tau2(vt2,rhosF,rho,g):\n",
      "    return(abs(vt2/(((rhosF-rho)/rho)*g)))\n",
      "tau2=f_tau2(vt2,rhosF,rho,g)\n",
      "print(\"tau2=\", tau2, \"sec\")"
     ],
     "language": "python",
     "metadata": {},
     "outputs": [
      {
       "output_type": "stream",
       "stream": "stdout",
       "text": [
        "tau2= 4.66760028009 sec\n"
       ]
      }
     ],
     "prompt_number": 11
    },
    {
     "cell_type": "markdown",
     "metadata": {},
     "source": [
      "Next, the height at which acceleration stops is calculated, $h_3$:\n",
      "$$h_3=\\frac{v_{t2}\\tau_2}{2}$$"
     ]
    },
    {
     "cell_type": "code",
     "collapsed": false,
     "input": [
      "def f_h3(vt2,tau2):\n",
      "    return(vt2*tau2/2)\n",
      "h3=f_h3(vt2,tau2)\n",
      "print(\"h3=\", h3, \"m\")"
     ],
     "language": "python",
     "metadata": {},
     "outputs": [
      {
       "output_type": "stream",
       "stream": "stdout",
       "text": [
        "h3= 20.0 m\n"
       ]
      }
     ],
     "prompt_number": 12
    },
    {
     "cell_type": "markdown",
     "metadata": {},
     "source": [
      "And, now the height that it travels at its terminal velocity can be calculated, $h_4$:\n",
      "$$h_4=h-h_3$$"
     ]
    },
    {
     "cell_type": "code",
     "collapsed": false,
     "input": [
      "def f_h4(h,h3):\n",
      "    return(h-h3)\n",
      "h4=f_h4(h,h3)\n",
      "print(\"h4=\", h4, \"m\")"
     ],
     "language": "python",
     "metadata": {},
     "outputs": [
      {
       "output_type": "stream",
       "stream": "stdout",
       "text": [
        "h4= 980.0 m\n"
       ]
      }
     ],
     "prompt_number": 13
    },
    {
     "cell_type": "markdown",
     "metadata": {},
     "source": [
      "The amount of time that this takes, $t_4$, can then be calculated:\n",
      "$$t_4=\\frac{h_4}{v_{t2}}$$"
     ]
    },
    {
     "cell_type": "code",
     "collapsed": false,
     "input": [
      "def f_t4(h4,vt2):\n",
      "    return(h4/vt2)\n",
      "t4=f_t4(h4, vt2)\n",
      "print(\"t4=\", t4, \"sec\")"
     ],
     "language": "python",
     "metadata": {},
     "outputs": [
      {
       "output_type": "stream",
       "stream": "stdout",
       "text": [
        "t4= 114.356206862 sec\n"
       ]
      }
     ],
     "prompt_number": 14
    },
    {
     "cell_type": "markdown",
     "metadata": {},
     "source": [
      "Finally, the displacement from the anchor on the bottom, $\\ell_{2xy}$, can be calculated:\n",
      "$$\\ell_{2xy}=v_{xy2}(t_4+\\tau_2)$$"
     ]
    },
    {
     "cell_type": "code",
     "collapsed": false,
     "input": [
      "def f_l2xy(t4,tau2):\n",
      "    return(vxy2*(t4+tau2))\n",
      "l2xy=f_l2xy(t4,tau2)\n",
      "print(\"l2xy=\", l2xy, \"m\")\n",
      "print(\"Bearing:\", rad2deg(thetacw), \"\u00b0\")"
     ],
     "language": "python",
     "metadata": {},
     "outputs": [
      {
       "output_type": "stream",
       "stream": "stdout",
       "text": [
        "l2xy= 1904.38091428 m\n",
        "Bearing: 90.0 \u00b0\n"
       ]
      }
     ],
     "prompt_number": 15
    },
    {
     "cell_type": "markdown",
     "metadata": {},
     "source": [
      "This means that the total displacement from the initial drop point has a magnitude of:\n",
      "$$\\ell_{surfacing}=\\ell_{1xy}+\\ell_{2xy}$$"
     ]
    },
    {
     "cell_type": "code",
     "collapsed": false,
     "input": [
      "def f_lsurf(l1xy, l2xy):\n",
      "    return(l1xy+l2xy)\n",
      "lsurf=f_lsurf(l1xy,l2xy)\n",
      "print(\"lsurf=\", lsurf, \"m\")\n",
      "print(\"Bearing:\", rad2deg(thetacw), \"\u00b0\")"
     ],
     "language": "python",
     "metadata": {},
     "outputs": [
      {
       "output_type": "stream",
       "stream": "stdout",
       "text": [
        "lsurf= 2676.85214967 m\n",
        "Bearing: 90.0 \u00b0\n"
       ]
      }
     ],
     "prompt_number": 16
    },
    {
     "cell_type": "heading",
     "level": 3,
     "metadata": {},
     "source": [
      "Phase 3: Floating"
     ]
    },
    {
     "cell_type": "markdown",
     "metadata": {},
     "source": [
      "The time that the float spends on the surface, $t_{surface}$, can then be calculated from the overall deployment time, and its difference with the rise time:\n",
      "$$t_{surface}=t_{float}\u2212(t_4+\\tau_2)$$"
     ]
    },
    {
     "cell_type": "code",
     "collapsed": false,
     "input": [
      "def f_tsurface(tfloat,t4,tau2):\n",
      "    return(tfloat-(t4+tau2))\n",
      "tfloat=3600\n",
      "tsurface=f_tsurface(tfloat,t4,tau2)\n",
      "print(\"tsurface=\", tsurface, \"sec\")"
     ],
     "language": "python",
     "metadata": {},
     "outputs": [
      {
       "output_type": "stream",
       "stream": "stdout",
       "text": [
        "tsurface= 3480.97619286 sec\n"
       ]
      }
     ],
     "prompt_number": 17
    },
    {
     "cell_type": "markdown",
     "metadata": {},
     "source": [
      "The velocity on the surface, $v_{xy_{surface}}$, is then calculated by taking a portion of the drift velocity in the water, and of the drift velocity in the air:\n",
      "$$|\\vec{v_{xy_{surface}}}|=\\sqrt{(c_{dF}(\\rho_a|\\vec{v_{ca}}|\\sin\\theta_{ca}+\\rho|\\vec{v_{cw}}|\\sin\\theta_{cw})^2+(c_{dF}(\\rho_a|\\vec{v_{ca}}|\\cos\\theta_{ca}+\\rho|\\vec{v_{cw}}|\\cos\\theta_{cw})^2}$$\n",
      "And its bearing from the vector addition of the two velocities:\n",
      "$$\\theta_{surface}=\\arctan({\\frac{(c_{dF}(\\rho_a|\\vec{v_{ca}}|\\sin\\theta_{ca}+\\rho|\\vec{v_{cw}}|\\sin\\theta_{cw})^2}{(c_{dF}(\\rho_a|\\vec{v_{ca}}|\\cos\\theta_{ca}+\\rho|\\vec{v_{cw}}|\\cos\\theta_{cw})^2})}$$"
     ]
    },
    {
     "cell_type": "code",
     "collapsed": false,
     "input": [
      "def f_vxysurface(rhoa,rho,vcw,vca,cdF,thetaca,thetacw):\n",
      "    return((sqrt((cdF*(abs(vca)*sin(thetaca)+(abs(vcw)*sin(thetacw)))**2)+(cdF*(abs(vca)*cos(thetaca)+(abs(vcw)*cos(thetacw))))**2)))\n",
      "vca=1\n",
      "thetaca=45\n",
      "rhoa=.001275\n",
      "thetaca=deg2rad(thetaca)\n",
      "thetasurf=atan((cdF*(rhoa*abs(vca)*sin(thetaca)+(rho*abs(vcw)*sin(thetacw)))**2)/(cdF*(rhoa*abs(vca)*cos(thetaca)+(rho*abs(vcw)*cos(thetacw)))**2))\n",
      "vxysurface=f_vxysurface(rhoa,rho,vcw,vca,cdF,thetaca,thetacw)\n",
      "print(\"vxysurface=\", vxysurface, \"m/sec\")\n",
      "print(\"Bearing:\", rad2deg(thetasurf), \"\u00b0\")"
     ],
     "language": "python",
     "metadata": {},
     "outputs": [
      {
       "output_type": "stream",
       "stream": "stdout",
       "text": [
        "vxysurface= 1.25781826238 m/sec\n",
        "Bearing: 89.9999535131 \u00b0\n"
       ]
      }
     ],
     "prompt_number": 18
    },
    {
     "cell_type": "markdown",
     "metadata": {},
     "source": [
      "This can then be used to find the final maximum displacement, $\\ell_{3xy}$:\n",
      "$$\\ell_{3xy}=v_{xy_{surface}}t_{surface}$$"
     ]
    },
    {
     "cell_type": "code",
     "collapsed": false,
     "input": [
      "def f_l3xy(vxysurface,tsurface):\n",
      "    return(vxysurface*tsurface)\n",
      "l3xy=f_l3xy(vxysurface,tsurface)\n",
      "print(\"l3xy=\", l3xy, \"m\")"
     ],
     "language": "python",
     "metadata": {},
     "outputs": [
      {
       "output_type": "stream",
       "stream": "stdout",
       "text": [
        "l3xy= 4378.4354263 m\n"
       ]
      }
     ],
     "prompt_number": 19
    },
    {
     "cell_type": "markdown",
     "metadata": {},
     "source": [
      "And so the final displacement from the initial drop point can be given by:\n",
      "$$\\ell_{overall}=\\ell_{1xy}+\\ell_{2xy}+\\ell_{3xy}$$"
     ]
    },
    {
     "cell_type": "code",
     "collapsed": false,
     "input": [
      "def f_loverall(l1xy,l2xy,l3xy):\n",
      "    return(l1xy+l2xy+l3xy)\n",
      "loverall=f_loverall(l1xy,l2xy,l3xy)\n",
      "print(\"loverall=\", loverall, \"m\")"
     ],
     "language": "python",
     "metadata": {},
     "outputs": [
      {
       "output_type": "stream",
       "stream": "stdout",
       "text": [
        "loverall= 7055.28757597 m\n"
       ]
      }
     ],
     "prompt_number": 20
    },
    {
     "cell_type": "code",
     "collapsed": false,
     "input": [],
     "language": "python",
     "metadata": {},
     "outputs": []
    }
   ],
   "metadata": {}
  }
 ]
}