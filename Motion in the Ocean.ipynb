{
 "metadata": {
  "name": "",
  "signature": "sha256:09cd859e16726499234ea23203300212aae6b3cba3aeac62bba12f772c6c28b7"
 },
 "nbformat": 3,
 "nbformat_minor": 0,
 "worksheets": [
  {
   "cells": [
    {
     "cell_type": "heading",
     "level": 1,
     "metadata": {},
     "source": [
      "Motion in the Ocean: The dynamics of sinking and rising objects through current levels"
     ]
    },
    {
     "cell_type": "heading",
     "level": 3,
     "metadata": {},
     "source": [
      "Peter Marchetto \n",
      "Bioacoustics Research Program, Cornell Lab of Ornithology, Cornell University, Ithaca, NY, USA"
     ]
    },
    {
     "cell_type": "heading",
     "level": 2,
     "metadata": {},
     "source": [
      "Abstract"
     ]
    },
    {
     "cell_type": "markdown",
     "metadata": {},
     "source": [
      "This paper proposes a predictive algorithm for determining landing and surfacing radii of dropped and floated instruments in water. Particular attention is paid to examples of traversal of multiple current layers."
     ]
    },
    {
     "cell_type": "heading",
     "level": 2,
     "metadata": {},
     "source": [
      "Introduction"
     ]
    },
    {
     "cell_type": "markdown",
     "metadata": {},
     "source": [
      "Many methods exist for finding where a drifting object may be on the surface of the ocean, and many methods seem to also exist to explain how the relative forces of water and wind may affect that object\u2019s motion while floating. However, when deploying objects that sink to the ocean floor or rise to its surface, it would be helpful to have a means of predicting the landing and surfacing radii. The algorithm described in this paper aims to fix the current dearth of such methods."
     ]
    },
    {
     "cell_type": "heading",
     "level": 2,
     "metadata": {},
     "source": [
      "Definition of Variables"
     ]
    },
    {
     "cell_type": "heading",
     "level": 3,
     "metadata": {},
     "source": [
      "Inputs"
     ]
    },
    {
     "cell_type": "markdown",
     "metadata": {},
     "source": [
      "Float Drag Coefficient: $c_{dF}$\n",
      "\n",
      "Float Density (kg/L): $\\rho_{sF}$\n",
      "\n",
      "Anchor Drag Coefficient: $c_{dA}$\n",
      "\n",
      "Anchor Density (kg/L): $\\rho_{sA}$\n",
      "\n",
      "Delay Time (sec): $t_{delay}$\n",
      "\n",
      "Deployment Depth (m): $h$\n",
      "\n",
      "Water Current Velocity (m/sec): $\\vec{v_{cw}}$\n",
      "\n",
      "Wind Speed (m/sec): $\\vec{v_{ca}}$\n",
      "\n",
      "Medium Density (kg/L): $\\rho$\n",
      "\n",
      "xy-Plane Cross Sectional Area of Float (m<sup>2</sup>): $A_{xyF}$\n",
      "\n",
      "xz/yz-Plane Cross Sectional Area of Float (m<sup>2</sup>): $A_{zF}$\n",
      "\n",
      "xy-Plane Cross Sectional Area of Anchor(m<sup>2</sup>): $A_{xyA}$\n",
      "\n",
      "xz/yz-Plane Cross Sectional Area of Anchor(m<sup>2</sup>): $A_{zA}$\n",
      "\n",
      "Volume of Float (L): $V_F$\n",
      "\n",
      "Volume of Anchor (L): $V_A$\n",
      "\n",
      "Release-to-Recovery Time (sec): $t_{float}$\n",
      "\n",
      "Acceleration Due to Gravity (m/sec<sup>2</sup>): $g=9.81$\n",
      "\n",
      "Terminal Velocity (m/sec): $v_t$"
     ]
    },
    {
     "cell_type": "heading",
     "level": 3,
     "metadata": {},
     "source": [
      "Outputs"
     ]
    },
    {
     "cell_type": "markdown",
     "metadata": {},
     "source": [
      "Phase 1 xy-Plane Displacement: $\\ell_{xy1}$\n",
      "\n",
      "Phase 2 xy-Plane Displacement: $\\ell_{xy2}$\n",
      "\n",
      "Phase 3 xy-Plane Displacement: $\\ell_{xy3}$"
     ]
    },
    {
     "cell_type": "heading",
     "level": 2,
     "metadata": {},
     "source": [
      "Algorithm"
     ]
    },
    {
     "cell_type": "heading",
     "level": 3,
     "metadata": {},
     "source": [
      "Phase 1: Sinking"
     ]
    },
    {
     "cell_type": "markdown",
     "metadata": {},
     "source": [
      "First, the terminal velocity of the system is calculated. Since the maximum terminal velocity is what\u2019s needed in this model, we treat this as being only the anchor. Thus we find the first terminal velocity, $v_{t1}$, based on the above parameters:\n",
      "$$v_{t1}=\\sqrt{\\mid\\frac{\\rho_{sA}-\\rho}{\\rho}\\frac{2gV_A}{c_{dA}A_{xyA}}\\mid}$$"
     ]
    },
    {
     "cell_type": "code",
     "collapsed": false,
     "input": [
      "from __future__ import print_function\n",
      "from IPython.html.widgets import interact, interactive, fixed\n",
      "from IPython.html import widgets\n",
      "import math\n",
      "from math import sqrt\n",
      "def vt1(rhosA,rho,g,VA,cdA,AxyA):\n",
      "    print(math.sqrt(abs(((rhosA-rho)/rho)*(2*g*VA/(cdA*AxyA)))))\n",
      "interact(vt1, rhosA=1.2, rho=1.0, g=fixed(9.81), VA=10.0, cdA=0.45, AxyA=0.5);"
     ],
     "language": "python",
     "metadata": {},
     "outputs": [
      {
       "output_type": "stream",
       "stream": "stdout",
       "text": [
        "13.2060592154\n"
       ]
      }
     ],
     "prompt_number": 38
    },
    {
     "cell_type": "markdown",
     "metadata": {},
     "source": [
      "Once the terminal velocity is known, the characteristic time, $\\tau_1$, can be calculated. This is the time over which the system experiences a logarithmic acceleration, ending when it reaches $v_{t1}$:\n",
      "$$\\tau_1=\\frac{v_{t1}}{\\frac{\\rho_{sA}-\\rho}{\\rho}g}$$"
     ]
    },
    {
     "cell_type": "code",
     "collapsed": false,
     "input": [
      "def tau1(vt1, rhosA, rho, g):\n",
      "    print(vt1/((rhosA-rho)/rho)*g)"
     ],
     "language": "python",
     "metadata": {},
     "outputs": [],
     "prompt_number": 31
    },
    {
     "cell_type": "markdown",
     "metadata": {},
     "source": [
      "This is then multiplied by the average velocity over the acceleration period, vt1 , to give the height of the system at\n",
      "the end of its acceleration:\n",
      "$$h_1=\\frac{v_{t1}\\tau_1}{2}$$"
     ]
    },
    {
     "cell_type": "code",
     "collapsed": false,
     "input": [
      "def h1(vt1,tau1):\n",
      "    print((vt1*tau1)/2)"
     ],
     "language": "python",
     "metadata": {},
     "outputs": [],
     "prompt_number": 6
    },
    {
     "cell_type": "markdown",
     "metadata": {},
     "source": [
      "When the overall height and the height at which the system ceases accelerating are known, the difference can be found, $h_2$, which is the height traversed by the system over the time that it sinks:\n",
      "$$h_2=h-h_1$$"
     ]
    },
    {
     "cell_type": "code",
     "collapsed": false,
     "input": [
      "def h2(h,h1):\n",
      "    print(h-h1)\n",
      "interact(h2,h=1000,h1=fixed(h1));"
     ],
     "language": "python",
     "metadata": {},
     "outputs": [
      {
       "ename": "TypeError",
       "evalue": "unsupported operand type(s) for -: 'int' and 'function'",
       "output_type": "pyerr",
       "traceback": [
        "\u001b[0;31m---------------------------------------------------------------------------\u001b[0m\n\u001b[0;31mTypeError\u001b[0m                                 Traceback (most recent call last)",
        "\u001b[0;32m<ipython-input-12-99838ee827fb>\u001b[0m in \u001b[0;36mh2\u001b[0;34m(h, h1)\u001b[0m\n\u001b[1;32m      1\u001b[0m \u001b[0;32mdef\u001b[0m \u001b[0mh2\u001b[0m\u001b[0;34m(\u001b[0m\u001b[0mh\u001b[0m\u001b[0;34m,\u001b[0m\u001b[0mh1\u001b[0m\u001b[0;34m)\u001b[0m\u001b[0;34m:\u001b[0m\u001b[0;34m\u001b[0m\u001b[0m\n\u001b[0;32m----> 2\u001b[0;31m     \u001b[0;32mprint\u001b[0m\u001b[0;34m(\u001b[0m\u001b[0mh\u001b[0m\u001b[0;34m-\u001b[0m\u001b[0mh1\u001b[0m\u001b[0;34m)\u001b[0m\u001b[0;34m\u001b[0m\u001b[0m\n\u001b[0m\u001b[1;32m      3\u001b[0m \u001b[0minteract\u001b[0m\u001b[0;34m(\u001b[0m\u001b[0mh2\u001b[0m\u001b[0;34m,\u001b[0m\u001b[0mh\u001b[0m\u001b[0;34m=\u001b[0m\u001b[0;36m1000\u001b[0m\u001b[0;34m,\u001b[0m\u001b[0mh1\u001b[0m\u001b[0;34m=\u001b[0m\u001b[0mfixed\u001b[0m\u001b[0;34m(\u001b[0m\u001b[0mh1\u001b[0m\u001b[0;34m)\u001b[0m\u001b[0;34m)\u001b[0m\u001b[0;34m;\u001b[0m\u001b[0;34m\u001b[0m\u001b[0m\n",
        "\u001b[0;31mTypeError\u001b[0m: unsupported operand type(s) for -: 'int' and 'function'"
       ]
      }
     ],
     "prompt_number": 12
    },
    {
     "cell_type": "markdown",
     "metadata": {},
     "source": [
      "This then leads to the sinking time, t2:\n",
      "$$t_2=\\frac{h_2}{v_{t1}}$$"
     ]
    },
    {
     "cell_type": "code",
     "collapsed": false,
     "input": [
      "def t2(h2,vt1):\n",
      "    print(h2/vt1)"
     ],
     "language": "python",
     "metadata": {},
     "outputs": [],
     "prompt_number": 20
    },
    {
     "cell_type": "markdown",
     "metadata": {},
     "source": [
      "Meanwhile, the xy-plane, or drift, velocity, $v_{xy1}$, is found by accounting for the drag coefficients of both the anchor and float parts of the system:\n",
      "$$v_{xy1}=\\frac{v_{cw}}{\\frac{c_{dF}A_{zF}}{\\rho_{sF}V_F}+\\frac{c_{dA}A_{zA}}{\\rho_{sA}V_A}}$$"
     ]
    },
    {
     "cell_type": "code",
     "collapsed": false,
     "input": [
      "def vxy1(vcw,cdF,AzF,rhosF,VF,cdA,AzA,rhosA,VA):\n",
      "    print(vcw/((cdF*AzF)/(rhosF*VF)+(cdA*AzA)/(rhosA*VA)))\n",
      "interact(vxy1, vcw=1.00,cdF=0.5,AzF=0.5,VF=5.0,cdA=fixed(cdA),AzA=0.25,rhosA=fixed(rhosA),VA=fixed(VA));"
     ],
     "language": "python",
     "metadata": {},
     "outputs": [
      {
       "ename": "NameError",
       "evalue": "name 'cdA' is not defined",
       "output_type": "pyerr",
       "traceback": [
        "\u001b[0;31m---------------------------------------------------------------------------\u001b[0m\n\u001b[0;31mNameError\u001b[0m                                 Traceback (most recent call last)",
        "\u001b[0;32m<ipython-input-22-55157d89723e>\u001b[0m in \u001b[0;36m<module>\u001b[0;34m()\u001b[0m\n\u001b[1;32m      1\u001b[0m \u001b[0;32mdef\u001b[0m \u001b[0mvxy1\u001b[0m\u001b[0;34m(\u001b[0m\u001b[0mvcw\u001b[0m\u001b[0;34m,\u001b[0m\u001b[0mcdF\u001b[0m\u001b[0;34m,\u001b[0m\u001b[0mAzF\u001b[0m\u001b[0;34m,\u001b[0m\u001b[0mrhosF\u001b[0m\u001b[0;34m,\u001b[0m\u001b[0mVF\u001b[0m\u001b[0;34m,\u001b[0m\u001b[0mcdA\u001b[0m\u001b[0;34m,\u001b[0m\u001b[0mAzA\u001b[0m\u001b[0;34m,\u001b[0m\u001b[0mrhosA\u001b[0m\u001b[0;34m,\u001b[0m\u001b[0mVA\u001b[0m\u001b[0;34m)\u001b[0m\u001b[0;34m:\u001b[0m\u001b[0;34m\u001b[0m\u001b[0m\n\u001b[1;32m      2\u001b[0m     \u001b[0;32mprint\u001b[0m\u001b[0;34m(\u001b[0m\u001b[0mvcw\u001b[0m\u001b[0;34m/\u001b[0m\u001b[0;34m(\u001b[0m\u001b[0;34m(\u001b[0m\u001b[0mcdF\u001b[0m\u001b[0;34m*\u001b[0m\u001b[0mAzF\u001b[0m\u001b[0;34m)\u001b[0m\u001b[0;34m/\u001b[0m\u001b[0;34m(\u001b[0m\u001b[0mrhosF\u001b[0m\u001b[0;34m*\u001b[0m\u001b[0mVF\u001b[0m\u001b[0;34m)\u001b[0m\u001b[0;34m+\u001b[0m\u001b[0;34m(\u001b[0m\u001b[0mcdA\u001b[0m\u001b[0;34m*\u001b[0m\u001b[0mAzA\u001b[0m\u001b[0;34m)\u001b[0m\u001b[0;34m/\u001b[0m\u001b[0;34m(\u001b[0m\u001b[0mrhosA\u001b[0m\u001b[0;34m*\u001b[0m\u001b[0mVA\u001b[0m\u001b[0;34m)\u001b[0m\u001b[0;34m)\u001b[0m\u001b[0;34m)\u001b[0m\u001b[0;34m\u001b[0m\u001b[0m\n\u001b[0;32m----> 3\u001b[0;31m \u001b[0minteract\u001b[0m\u001b[0;34m(\u001b[0m\u001b[0mvxy1\u001b[0m\u001b[0;34m,\u001b[0m \u001b[0mvcw\u001b[0m\u001b[0;34m=\u001b[0m\u001b[0;36m1.00\u001b[0m\u001b[0;34m,\u001b[0m\u001b[0mcdF\u001b[0m\u001b[0;34m=\u001b[0m\u001b[0;36m0.5\u001b[0m\u001b[0;34m,\u001b[0m\u001b[0mAzF\u001b[0m\u001b[0;34m=\u001b[0m\u001b[0;36m0.5\u001b[0m\u001b[0;34m,\u001b[0m\u001b[0mVF\u001b[0m\u001b[0;34m=\u001b[0m\u001b[0;36m5.0\u001b[0m\u001b[0;34m,\u001b[0m\u001b[0mcdA\u001b[0m\u001b[0;34m=\u001b[0m\u001b[0mfixed\u001b[0m\u001b[0;34m(\u001b[0m\u001b[0mcdA\u001b[0m\u001b[0;34m)\u001b[0m\u001b[0;34m,\u001b[0m\u001b[0mAzA\u001b[0m\u001b[0;34m=\u001b[0m\u001b[0;36m0.25\u001b[0m\u001b[0;34m,\u001b[0m\u001b[0mrhosA\u001b[0m\u001b[0;34m=\u001b[0m\u001b[0mfixed\u001b[0m\u001b[0;34m(\u001b[0m\u001b[0mrhosA\u001b[0m\u001b[0;34m)\u001b[0m\u001b[0;34m,\u001b[0m\u001b[0mVA\u001b[0m\u001b[0;34m=\u001b[0m\u001b[0mfixed\u001b[0m\u001b[0;34m(\u001b[0m\u001b[0mVA\u001b[0m\u001b[0;34m)\u001b[0m\u001b[0;34m)\u001b[0m\u001b[0;34m;\u001b[0m\u001b[0;34m\u001b[0m\u001b[0m\n\u001b[0m",
        "\u001b[0;31mNameError\u001b[0m: name 'cdA' is not defined"
       ]
      }
     ],
     "prompt_number": 22
    },
    {
     "cell_type": "markdown",
     "metadata": {},
     "source": [
      "Now it's possible to find the displacement from the drop point in the xy-plane, $\\ell_{1xy}$:\n",
      "$$\\ell_{1xy}=v_{xy1}(t_2+\\tau_1)$$"
     ]
    },
    {
     "cell_type": "code",
     "collapsed": false,
     "input": [
      "def l1xy(vxy1,t2,tau1):\n",
      "    print(vxy1*(t2+tau1))"
     ],
     "language": "python",
     "metadata": {},
     "outputs": []
    },
    {
     "cell_type": "heading",
     "level": 3,
     "metadata": {},
     "source": [
      "Phase 2: Surfacing"
     ]
    },
    {
     "cell_type": "markdown",
     "metadata": {},
     "source": [
      "Now it\u2019s possible to find the drift velocity, $v_{xy2}$ , of the float\n",
      "alone:\n",
      "$$v_{xy2}=\\frac{v_{cw}}{\\frac{c_{dF}A_{zF}}{\\rho_{sF}V_F}}$$"
     ]
    },
    {
     "cell_type": "code",
     "collapsed": false,
     "input": [
      "def vxy2(vcw,cdF,AzF,rhosF,VF):\n",
      "    print(vcw/((cdF*AzF)/(rhosF*VF)))"
     ],
     "language": "python",
     "metadata": {},
     "outputs": [],
     "prompt_number": 24
    },
    {
     "cell_type": "markdown",
     "metadata": {},
     "source": [
      "Then the characteristic time of the float alone, $\\tau_2$, can be\n",
      "calculated:\n",
      "$$\\tau_2=\\frac{v_{t2}}{\\frac{\\rho_{sF}-\\rho}{\\rho}g}$$"
     ]
    },
    {
     "cell_type": "code",
     "collapsed": false,
     "input": [
      "def tau2(vt2,rhosF,rho,g):\n",
      "    print(vt2/(((rhosF-rho)/rho)*g))"
     ],
     "language": "python",
     "metadata": {},
     "outputs": [],
     "prompt_number": 27
    },
    {
     "cell_type": "markdown",
     "metadata": {},
     "source": [
      "Next, the height at which acceleration stops is calculated, $h_3$:\n",
      "$$h_3=\\frac{v_{t2}\\tau_2}{2}$$"
     ]
    },
    {
     "cell_type": "code",
     "collapsed": false,
     "input": [
      "def h3(vt2,tau2):\n",
      "    print(vt2*tau2/2)"
     ],
     "language": "python",
     "metadata": {},
     "outputs": [],
     "prompt_number": 28
    },
    {
     "cell_type": "markdown",
     "metadata": {},
     "source": [
      "And, now the height that it travels at its terminal velocity can be calculated, $h_4$:\n",
      "$$h_4=h-h_3$$"
     ]
    },
    {
     "cell_type": "code",
     "collapsed": false,
     "input": [
      "def h4(h,h3):\n",
      "    print(h-h3)"
     ],
     "language": "python",
     "metadata": {},
     "outputs": [],
     "prompt_number": 29
    },
    {
     "cell_type": "markdown",
     "metadata": {},
     "source": [
      "The amount of time that this takes, $t_4$, can then be calculated:\n",
      "$$t_4=\\frac{h_4}{v_{t1}}$$"
     ]
    },
    {
     "cell_type": "code",
     "collapsed": false,
     "input": [
      "def t4(h4,vt1):\n",
      "    print(h4/vt1)"
     ],
     "language": "python",
     "metadata": {},
     "outputs": [],
     "prompt_number": 30
    },
    {
     "cell_type": "markdown",
     "metadata": {},
     "source": [
      "Finally, the displacement from the anchor on the bottom, $\\ell_{2xy}$, can be calculated:\n",
      "$$\\ell_{2xy}=v_{xy2}(t_4+\\tau_2)$$"
     ]
    },
    {
     "cell_type": "code",
     "collapsed": false,
     "input": [
      "def l2xy(t4,tau2):\n",
      "    print(vxy2*(t4+tau2))"
     ],
     "language": "python",
     "metadata": {},
     "outputs": [],
     "prompt_number": 32
    },
    {
     "cell_type": "heading",
     "level": 3,
     "metadata": {},
     "source": [
      "Phase 3: Floating"
     ]
    },
    {
     "cell_type": "markdown",
     "metadata": {},
     "source": [
      "The time that the float spends on the surface, $t_{surface}$, can then be calculated from the overall deployment time, and its difference with the rise time:\n",
      "$$t_{surface}=t_{float}\u2212(t_4+\\tau_2)$$"
     ]
    },
    {
     "cell_type": "code",
     "collapsed": false,
     "input": [
      "def tsurface(tfloat,t4,tau2):\n",
      "    print(tfloat-(t4+tau2))"
     ],
     "language": "python",
     "metadata": {},
     "outputs": [],
     "prompt_number": 35
    },
    {
     "cell_type": "markdown",
     "metadata": {},
     "source": [
      "The velocity on the surface, $v_{xy_{surface}}$, is then calculated by taking a portion of the drift velocity in the water, and of the drift velocity in the air:\n",
      "$$v_{xy_{surface}}=\\frac{v_{xy2}}{2}+\\frac{v_{ca}c_{dF}}{c_{dF}+1}$$"
     ]
    },
    {
     "cell_type": "code",
     "collapsed": false,
     "input": [
      "def vxysurface(vxy2,vca,cdF):\n",
      "    print((vxy2/2)+((vca*cdF)/(cdF+1)))"
     ],
     "language": "python",
     "metadata": {},
     "outputs": [],
     "prompt_number": 36
    },
    {
     "cell_type": "markdown",
     "metadata": {},
     "source": [
      "This can then be used to find the final maximum displacement, $\\ell_{3xy}$:\n",
      "$$\\ell_{3xy}=v_{xy_{surface}}t_{surface}$$"
     ]
    },
    {
     "cell_type": "code",
     "collapsed": false,
     "input": [
      "def l3xy(vxysurface,tsurface):\n",
      "    print(vxysurface*tsurface)"
     ],
     "language": "python",
     "metadata": {},
     "outputs": [],
     "prompt_number": 37
    },
    {
     "cell_type": "code",
     "collapsed": false,
     "input": [],
     "language": "python",
     "metadata": {},
     "outputs": []
    }
   ],
   "metadata": {}
  }
 ]
}